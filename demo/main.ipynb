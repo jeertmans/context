{
 "cells": [
  {
   "cell_type": "code",
   "execution_count": 1,
   "metadata": {},
   "outputs": [
    {
     "name": "stdout",
     "output_type": "stream",
     "text": [
      "[<ipython-input-1-79eead714f34>:11] in <module>\n"
     ]
    }
   ],
   "source": [
    "from context import here, ctxt\n",
    "\"\"\"\n",
    "here: minimalist debugging\n",
    "ctxt: complete debugging\n",
    "\n",
    "Want an intermediate debugging? Instantiate your own Context object :-)\n",
    "\"\"\"\n",
    "\n",
    "sep = \"\\n\" + 70 * \"=\" + \"\\n\"\n",
    "\n",
    "here()"
   ]
  },
  {
   "cell_type": "code",
   "execution_count": 2,
   "metadata": {},
   "outputs": [
    {
     "name": "stdout",
     "output_type": "stream",
     "text": [
      "[<ipython-input-2-db88b4f95185>:1] in <module>\n",
      "x = 15\n",
      "\n",
      "======================================================================\n",
      "\n",
      "[<ipython-input-2-db88b4f95185>:6] in <module>:\n",
      "> 15\n",
      "y = 15\n",
      "\n",
      "======================================================================\n",
      "\n",
      "[<ipython-input-2-db88b4f95185>:11] in <module>:\n",
      "> 5\n",
      "> 6\n",
      "> a = 10\n",
      "z = ((5, 6), dict_items([('a', 10)]))\n"
     ]
    }
   ],
   "source": [
    "x = here(5 + 10)\n",
    "print(\"x =\", x)\n",
    "\n",
    "print(sep)\n",
    "\n",
    "y = ctxt(5 + 10)\n",
    "print(\"y =\", y)\n",
    "\n",
    "print(sep)\n",
    "\n",
    "z = ctxt(5, 6, a=10)\n",
    "print(\"z =\", z)"
   ]
  },
  {
   "cell_type": "code",
   "execution_count": 3,
   "metadata": {},
   "outputs": [
    {
     "name": "stdout",
     "output_type": "stream",
     "text": [
      "[<ipython-input-3-323904d716c7>:4] in my_square\n",
      "s = 25\n",
      "\n",
      "======================================================================\n",
      "\n",
      "[<ipython-input-3-323904d716c7>:4] in my_square\n",
      "[<ipython-input-3-323904d716c7>:14] in <module>\n",
      "s = 100\n"
     ]
    }
   ],
   "source": [
    "# Handle call inside a function\n",
    "def my_square(x):\n",
    "    y = x ** 2\n",
    "    here()\n",
    "    return y\n",
    "\n",
    "s = my_square(5)\n",
    "print(\"s =\", s)\n",
    "\n",
    "print(sep)\n",
    "\n",
    "\n",
    "# Can also wrap a function call\n",
    "s = here(my_square(10))\n",
    "print(\"s =\", s)"
   ]
  },
  {
   "cell_type": "code",
   "execution_count": 4,
   "metadata": {},
   "outputs": [
    {
     "name": "stdout",
     "output_type": "stream",
     "text": [
      "[CALL: my_sqrt, FROM: <ipython-input-4-10cc6d34de9d>:6 in <module>]\n",
      "r = 2.0\n",
      "\n",
      "======================================================================\n",
      "\n",
      "[CALL: my_sqrt_bis, FROM: <ipython-input-4-10cc6d34de9d>:17 in [...]\n",
      "  [<ipython-input-4-10cc6d34de9d>:14] in my_sqrt_bis\n",
      "r = 4.0\n",
      "\n",
      "======================================================================\n",
      "\n",
      "[CALL: my_sqrt_ter, FROM: <ipython-input-4-10cc6d34de9d>:28 in [...]\n",
      "<- in:\n",
      "> 25\n",
      "  [<ipython-input-4-10cc6d34de9d>:25] in my_sqrt_ter:\n",
      "  > 5.0\n",
      "-> out:\n",
      "> 5.0\n",
      "r = 5.0\n"
     ]
    }
   ],
   "source": [
    "# Can also be a function wrapper\n",
    "@here  # binds to here.wrap\n",
    "def my_sqrt(x):\n",
    "    return pow(x, 0.5)\n",
    "\n",
    "r = my_sqrt(4)\n",
    "print(\"r =\", r)\n",
    "\n",
    "print(sep)\n",
    "\n",
    "# Handles nested call, adding indent per-level\n",
    "@here\n",
    "def my_sqrt_bis(x):\n",
    "    y =  here(pow(x, 0.5))\n",
    "    return y\n",
    "\n",
    "r = my_sqrt_bis(16)\n",
    "print(\"r =\", r)\n",
    "\n",
    "print(sep)\n",
    "\n",
    "# Same but with more context\n",
    "@ctxt\n",
    "def my_sqrt_ter(x):\n",
    "    y =  ctxt(pow(x, 0.5))\n",
    "    return y\n",
    "\n",
    "r = my_sqrt_ter(25)\n",
    "print(\"r =\", r)"
   ]
  },
  {
   "cell_type": "code",
   "execution_count": 8,
   "metadata": {},
   "outputs": [
    {
     "name": "stdout",
     "output_type": "stream",
     "text": [
      "[CALL: print, FROM: <ipython-input-8-b7886cfc88db>:13 in <module>]\n",
      "hello\n",
      "[CALL: print, FROM: <ipython-input-8-b7886cfc88db>:15 in <module>]\n",
      "\n",
      "======================================================================\n",
      "\n",
      "[CALL: print, FROM: <ipython-input-8-b7886cfc88db>:18 in [...]\n",
      "in some_function\n"
     ]
    }
   ],
   "source": [
    "# If you still want to use the print function to add more context,\n",
    "# you can wrap the print function using our wrapper\n",
    "\n",
    "import builtins\n",
    "\n",
    "@here\n",
    "def print(*args, **kwargs):\n",
    "    return builtins.print(*args)\n",
    "\n",
    "# or\n",
    "# print = here(builtins.print)\n",
    "\n",
    "print(\"hello\")\n",
    "\n",
    "print(sep)  # Yes it will also be affected ;-)\n",
    "\n",
    "def some_function():\n",
    "    print(\"in some_function\")\n",
    "    \n",
    "\n",
    "some_function()\n",
    "    \n",
    "# Reset old print function\n",
    "\n",
    "print = builtins.print"
   ]
  },
  {
   "cell_type": "code",
   "execution_count": null,
   "metadata": {},
   "outputs": [],
   "source": []
  }
 ],
 "metadata": {
  "kernelspec": {
   "display_name": "Python 3",
   "language": "python",
   "name": "python3"
  },
  "language_info": {
   "codemirror_mode": {
    "name": "ipython",
    "version": 3
   },
   "file_extension": ".py",
   "mimetype": "text/x-python",
   "name": "python",
   "nbconvert_exporter": "python",
   "pygments_lexer": "ipython3",
   "version": "3.8.5"
  }
 },
 "nbformat": 4,
 "nbformat_minor": 4
}
